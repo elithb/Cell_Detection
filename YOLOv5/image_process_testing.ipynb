{
 "cells": [
  {
   "cell_type": "code",
   "execution_count": 3,
   "metadata": {},
   "outputs": [],
   "source": [
    "from skimage import io\n",
    "from matplotlib import pyplot as plt\n",
    "from skimage.filters import roberts, sobel, scharr, prewitt\n",
    "from PIL import Image\n",
    "\n",
    "imloc = \"Croissance_29_Oct20_gathered/Jour 6_XY01_T0002.tif\""
   ]
  },
  {
   "cell_type": "code",
   "execution_count": 3,
   "metadata": {},
   "outputs": [],
   "source": [
    "im = Image.open(imloc)\n",
    "im.show()"
   ]
  }
 ],
 "metadata": {
  "interpreter": {
   "hash": "3cac05bec5f6419ddbb39b2a58856f0e5294377d93c7c00f76233f9f3ddee9b7"
  },
  "kernelspec": {
   "display_name": "Python 3.8.12 ('yolotest')",
   "language": "python",
   "name": "python3"
  },
  "language_info": {
   "codemirror_mode": {
    "name": "ipython",
    "version": 3
   },
   "file_extension": ".py",
   "mimetype": "text/x-python",
   "name": "python",
   "nbconvert_exporter": "python",
   "pygments_lexer": "ipython3",
   "version": "3.8.12"
  },
  "orig_nbformat": 4
 },
 "nbformat": 4,
 "nbformat_minor": 2
}
